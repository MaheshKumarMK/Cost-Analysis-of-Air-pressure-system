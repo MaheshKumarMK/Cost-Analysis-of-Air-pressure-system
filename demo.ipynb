{
 "cells": [
  {
   "cell_type": "code",
   "execution_count": 1,
   "metadata": {},
   "outputs": [],
   "source": [
    "import pandas as pd\n"
   ]
  },
  {
   "cell_type": "code",
   "execution_count": null,
   "metadata": {},
   "outputs": [],
   "source": []
  },
  {
   "cell_type": "code",
   "execution_count": null,
   "metadata": {},
   "outputs": [],
   "source": []
  },
  {
   "cell_type": "code",
   "execution_count": 12,
   "metadata": {},
   "outputs": [],
   "source": [
    "import os"
   ]
  },
  {
   "cell_type": "code",
   "execution_count": 19,
   "metadata": {},
   "outputs": [],
   "source": [
    "filepath='E:/Industry Project/Projects/project files/sensor_fault_detection/sfd/sensor-fault-detection/artifact/11_01_2022_23_49_15/data_ingestion/feature_store/sensor.csv'"
   ]
  },
  {
   "cell_type": "code",
   "execution_count": 33,
   "metadata": {},
   "outputs": [],
   "source": [
    "sensor_dataframe = pd.read_csv(filepath).drop(['class'], axis=1)"
   ]
  },
  {
   "cell_type": "code",
   "execution_count": 34,
   "metadata": {},
   "outputs": [
    {
     "data": {
      "text/html": [
       "<div>\n",
       "<style scoped>\n",
       "    .dataframe tbody tr th:only-of-type {\n",
       "        vertical-align: middle;\n",
       "    }\n",
       "\n",
       "    .dataframe tbody tr th {\n",
       "        vertical-align: top;\n",
       "    }\n",
       "\n",
       "    .dataframe thead th {\n",
       "        text-align: right;\n",
       "    }\n",
       "</style>\n",
       "<table border=\"1\" class=\"dataframe\">\n",
       "  <thead>\n",
       "    <tr style=\"text-align: right;\">\n",
       "      <th></th>\n",
       "      <th>aa_000</th>\n",
       "      <th>ab_000</th>\n",
       "      <th>ac_000</th>\n",
       "      <th>ad_000</th>\n",
       "      <th>ae_000</th>\n",
       "      <th>af_000</th>\n",
       "      <th>ag_000</th>\n",
       "      <th>ag_001</th>\n",
       "      <th>ag_002</th>\n",
       "      <th>ag_003</th>\n",
       "      <th>...</th>\n",
       "      <th>ee_002</th>\n",
       "      <th>ee_003</th>\n",
       "      <th>ee_004</th>\n",
       "      <th>ee_005</th>\n",
       "      <th>ee_006</th>\n",
       "      <th>ee_007</th>\n",
       "      <th>ee_008</th>\n",
       "      <th>ee_009</th>\n",
       "      <th>ef_000</th>\n",
       "      <th>eg_000</th>\n",
       "    </tr>\n",
       "  </thead>\n",
       "  <tbody>\n",
       "    <tr>\n",
       "      <th>0</th>\n",
       "      <td>437486</td>\n",
       "      <td>0.0</td>\n",
       "      <td>NaN</td>\n",
       "      <td>NaN</td>\n",
       "      <td>0.0</td>\n",
       "      <td>0.0</td>\n",
       "      <td>0.0</td>\n",
       "      <td>96944.0</td>\n",
       "      <td>981638.0</td>\n",
       "      <td>2445458.0</td>\n",
       "      <td>...</td>\n",
       "      <td>1088628.0</td>\n",
       "      <td>576962.0</td>\n",
       "      <td>1260296.0</td>\n",
       "      <td>1452080.0</td>\n",
       "      <td>2642866.0</td>\n",
       "      <td>2303888.0</td>\n",
       "      <td>91546.0</td>\n",
       "      <td>0.0</td>\n",
       "      <td>0.0</td>\n",
       "      <td>0.0</td>\n",
       "    </tr>\n",
       "    <tr>\n",
       "      <th>1</th>\n",
       "      <td>392526</td>\n",
       "      <td>NaN</td>\n",
       "      <td>NaN</td>\n",
       "      <td>NaN</td>\n",
       "      <td>NaN</td>\n",
       "      <td>NaN</td>\n",
       "      <td>0.0</td>\n",
       "      <td>0.0</td>\n",
       "      <td>0.0</td>\n",
       "      <td>140.0</td>\n",
       "      <td>...</td>\n",
       "      <td>5384816.0</td>\n",
       "      <td>2076164.0</td>\n",
       "      <td>2854136.0</td>\n",
       "      <td>2445814.0</td>\n",
       "      <td>583594.0</td>\n",
       "      <td>210220.0</td>\n",
       "      <td>11738.0</td>\n",
       "      <td>172.0</td>\n",
       "      <td>NaN</td>\n",
       "      <td>NaN</td>\n",
       "    </tr>\n",
       "    <tr>\n",
       "      <th>2</th>\n",
       "      <td>959094</td>\n",
       "      <td>2.0</td>\n",
       "      <td>288.0</td>\n",
       "      <td>266.0</td>\n",
       "      <td>0.0</td>\n",
       "      <td>0.0</td>\n",
       "      <td>0.0</td>\n",
       "      <td>0.0</td>\n",
       "      <td>0.0</td>\n",
       "      <td>0.0</td>\n",
       "      <td>...</td>\n",
       "      <td>790862.0</td>\n",
       "      <td>256590.0</td>\n",
       "      <td>566132.0</td>\n",
       "      <td>1192120.0</td>\n",
       "      <td>86112.0</td>\n",
       "      <td>16760.0</td>\n",
       "      <td>3794.0</td>\n",
       "      <td>0.0</td>\n",
       "      <td>0.0</td>\n",
       "      <td>0.0</td>\n",
       "    </tr>\n",
       "    <tr>\n",
       "      <th>3</th>\n",
       "      <td>153204</td>\n",
       "      <td>0.0</td>\n",
       "      <td>182.0</td>\n",
       "      <td>NaN</td>\n",
       "      <td>0.0</td>\n",
       "      <td>0.0</td>\n",
       "      <td>0.0</td>\n",
       "      <td>0.0</td>\n",
       "      <td>0.0</td>\n",
       "      <td>11804.0</td>\n",
       "      <td>...</td>\n",
       "      <td>129862.0</td>\n",
       "      <td>26872.0</td>\n",
       "      <td>34044.0</td>\n",
       "      <td>22472.0</td>\n",
       "      <td>34362.0</td>\n",
       "      <td>0.0</td>\n",
       "      <td>0.0</td>\n",
       "      <td>0.0</td>\n",
       "      <td>0.0</td>\n",
       "      <td>0.0</td>\n",
       "    </tr>\n",
       "    <tr>\n",
       "      <th>4</th>\n",
       "      <td>967376</td>\n",
       "      <td>NaN</td>\n",
       "      <td>8660.0</td>\n",
       "      <td>8660.0</td>\n",
       "      <td>0.0</td>\n",
       "      <td>0.0</td>\n",
       "      <td>0.0</td>\n",
       "      <td>0.0</td>\n",
       "      <td>0.0</td>\n",
       "      <td>18.0</td>\n",
       "      <td>...</td>\n",
       "      <td>11377600.0</td>\n",
       "      <td>5432058.0</td>\n",
       "      <td>11165988.0</td>\n",
       "      <td>8940384.0</td>\n",
       "      <td>4927202.0</td>\n",
       "      <td>1868356.0</td>\n",
       "      <td>855366.0</td>\n",
       "      <td>42.0</td>\n",
       "      <td>0.0</td>\n",
       "      <td>0.0</td>\n",
       "    </tr>\n",
       "    <tr>\n",
       "      <th>...</th>\n",
       "      <td>...</td>\n",
       "      <td>...</td>\n",
       "      <td>...</td>\n",
       "      <td>...</td>\n",
       "      <td>...</td>\n",
       "      <td>...</td>\n",
       "      <td>...</td>\n",
       "      <td>...</td>\n",
       "      <td>...</td>\n",
       "      <td>...</td>\n",
       "      <td>...</td>\n",
       "      <td>...</td>\n",
       "      <td>...</td>\n",
       "      <td>...</td>\n",
       "      <td>...</td>\n",
       "      <td>...</td>\n",
       "      <td>...</td>\n",
       "      <td>...</td>\n",
       "      <td>...</td>\n",
       "      <td>...</td>\n",
       "      <td>...</td>\n",
       "    </tr>\n",
       "    <tr>\n",
       "      <th>36183</th>\n",
       "      <td>40222</td>\n",
       "      <td>NaN</td>\n",
       "      <td>698.0</td>\n",
       "      <td>628.0</td>\n",
       "      <td>0.0</td>\n",
       "      <td>0.0</td>\n",
       "      <td>0.0</td>\n",
       "      <td>0.0</td>\n",
       "      <td>0.0</td>\n",
       "      <td>0.0</td>\n",
       "      <td>...</td>\n",
       "      <td>440066.0</td>\n",
       "      <td>183200.0</td>\n",
       "      <td>344546.0</td>\n",
       "      <td>254068.0</td>\n",
       "      <td>225148.0</td>\n",
       "      <td>158304.0</td>\n",
       "      <td>170384.0</td>\n",
       "      <td>158.0</td>\n",
       "      <td>0.0</td>\n",
       "      <td>0.0</td>\n",
       "    </tr>\n",
       "    <tr>\n",
       "      <th>36184</th>\n",
       "      <td>38836</td>\n",
       "      <td>NaN</td>\n",
       "      <td>48.0</td>\n",
       "      <td>46.0</td>\n",
       "      <td>0.0</td>\n",
       "      <td>0.0</td>\n",
       "      <td>0.0</td>\n",
       "      <td>0.0</td>\n",
       "      <td>0.0</td>\n",
       "      <td>0.0</td>\n",
       "      <td>...</td>\n",
       "      <td>248292.0</td>\n",
       "      <td>151452.0</td>\n",
       "      <td>382444.0</td>\n",
       "      <td>481050.0</td>\n",
       "      <td>209898.0</td>\n",
       "      <td>92854.0</td>\n",
       "      <td>131494.0</td>\n",
       "      <td>7806.0</td>\n",
       "      <td>0.0</td>\n",
       "      <td>0.0</td>\n",
       "    </tr>\n",
       "    <tr>\n",
       "      <th>36185</th>\n",
       "      <td>60</td>\n",
       "      <td>2.0</td>\n",
       "      <td>16.0</td>\n",
       "      <td>14.0</td>\n",
       "      <td>0.0</td>\n",
       "      <td>0.0</td>\n",
       "      <td>0.0</td>\n",
       "      <td>0.0</td>\n",
       "      <td>0.0</td>\n",
       "      <td>0.0</td>\n",
       "      <td>...</td>\n",
       "      <td>492.0</td>\n",
       "      <td>160.0</td>\n",
       "      <td>224.0</td>\n",
       "      <td>82.0</td>\n",
       "      <td>78.0</td>\n",
       "      <td>0.0</td>\n",
       "      <td>0.0</td>\n",
       "      <td>0.0</td>\n",
       "      <td>0.0</td>\n",
       "      <td>0.0</td>\n",
       "    </tr>\n",
       "    <tr>\n",
       "      <th>36186</th>\n",
       "      <td>6</td>\n",
       "      <td>0.0</td>\n",
       "      <td>4.0</td>\n",
       "      <td>0.0</td>\n",
       "      <td>0.0</td>\n",
       "      <td>0.0</td>\n",
       "      <td>0.0</td>\n",
       "      <td>0.0</td>\n",
       "      <td>0.0</td>\n",
       "      <td>0.0</td>\n",
       "      <td>...</td>\n",
       "      <td>96.0</td>\n",
       "      <td>20.0</td>\n",
       "      <td>0.0</td>\n",
       "      <td>0.0</td>\n",
       "      <td>0.0</td>\n",
       "      <td>0.0</td>\n",
       "      <td>0.0</td>\n",
       "      <td>0.0</td>\n",
       "      <td>0.0</td>\n",
       "      <td>0.0</td>\n",
       "    </tr>\n",
       "    <tr>\n",
       "      <th>36187</th>\n",
       "      <td>331014</td>\n",
       "      <td>NaN</td>\n",
       "      <td>NaN</td>\n",
       "      <td>NaN</td>\n",
       "      <td>NaN</td>\n",
       "      <td>NaN</td>\n",
       "      <td>0.0</td>\n",
       "      <td>0.0</td>\n",
       "      <td>37086.0</td>\n",
       "      <td>799976.0</td>\n",
       "      <td>...</td>\n",
       "      <td>1117514.0</td>\n",
       "      <td>503328.0</td>\n",
       "      <td>1178744.0</td>\n",
       "      <td>1807704.0</td>\n",
       "      <td>5154558.0</td>\n",
       "      <td>4322266.0</td>\n",
       "      <td>79060.0</td>\n",
       "      <td>0.0</td>\n",
       "      <td>NaN</td>\n",
       "      <td>NaN</td>\n",
       "    </tr>\n",
       "  </tbody>\n",
       "</table>\n",
       "<p>36188 rows × 170 columns</p>\n",
       "</div>"
      ],
      "text/plain": [
       "       aa_000  ab_000  ac_000  ad_000  ae_000  af_000  ag_000   ag_001  \\\n",
       "0      437486     0.0     NaN     NaN     0.0     0.0     0.0  96944.0   \n",
       "1      392526     NaN     NaN     NaN     NaN     NaN     0.0      0.0   \n",
       "2      959094     2.0   288.0   266.0     0.0     0.0     0.0      0.0   \n",
       "3      153204     0.0   182.0     NaN     0.0     0.0     0.0      0.0   \n",
       "4      967376     NaN  8660.0  8660.0     0.0     0.0     0.0      0.0   \n",
       "...       ...     ...     ...     ...     ...     ...     ...      ...   \n",
       "36183   40222     NaN   698.0   628.0     0.0     0.0     0.0      0.0   \n",
       "36184   38836     NaN    48.0    46.0     0.0     0.0     0.0      0.0   \n",
       "36185      60     2.0    16.0    14.0     0.0     0.0     0.0      0.0   \n",
       "36186       6     0.0     4.0     0.0     0.0     0.0     0.0      0.0   \n",
       "36187  331014     NaN     NaN     NaN     NaN     NaN     0.0      0.0   \n",
       "\n",
       "         ag_002     ag_003  ...      ee_002     ee_003      ee_004     ee_005  \\\n",
       "0      981638.0  2445458.0  ...   1088628.0   576962.0   1260296.0  1452080.0   \n",
       "1           0.0      140.0  ...   5384816.0  2076164.0   2854136.0  2445814.0   \n",
       "2           0.0        0.0  ...    790862.0   256590.0    566132.0  1192120.0   \n",
       "3           0.0    11804.0  ...    129862.0    26872.0     34044.0    22472.0   \n",
       "4           0.0       18.0  ...  11377600.0  5432058.0  11165988.0  8940384.0   \n",
       "...         ...        ...  ...         ...        ...         ...        ...   \n",
       "36183       0.0        0.0  ...    440066.0   183200.0    344546.0   254068.0   \n",
       "36184       0.0        0.0  ...    248292.0   151452.0    382444.0   481050.0   \n",
       "36185       0.0        0.0  ...       492.0      160.0       224.0       82.0   \n",
       "36186       0.0        0.0  ...        96.0       20.0         0.0        0.0   \n",
       "36187   37086.0   799976.0  ...   1117514.0   503328.0   1178744.0  1807704.0   \n",
       "\n",
       "          ee_006     ee_007    ee_008  ee_009  ef_000  eg_000  \n",
       "0      2642866.0  2303888.0   91546.0     0.0     0.0     0.0  \n",
       "1       583594.0   210220.0   11738.0   172.0     NaN     NaN  \n",
       "2        86112.0    16760.0    3794.0     0.0     0.0     0.0  \n",
       "3        34362.0        0.0       0.0     0.0     0.0     0.0  \n",
       "4      4927202.0  1868356.0  855366.0    42.0     0.0     0.0  \n",
       "...          ...        ...       ...     ...     ...     ...  \n",
       "36183   225148.0   158304.0  170384.0   158.0     0.0     0.0  \n",
       "36184   209898.0    92854.0  131494.0  7806.0     0.0     0.0  \n",
       "36185       78.0        0.0       0.0     0.0     0.0     0.0  \n",
       "36186        0.0        0.0       0.0     0.0     0.0     0.0  \n",
       "36187  5154558.0  4322266.0   79060.0     0.0     NaN     NaN  \n",
       "\n",
       "[36188 rows x 170 columns]"
      ]
     },
     "execution_count": 34,
     "metadata": {},
     "output_type": "execute_result"
    }
   ],
   "source": [
    "sensor_dataframe"
   ]
  },
  {
   "cell_type": "code",
   "execution_count": 35,
   "metadata": {},
   "outputs": [],
   "source": [
    "import statistics as st\n"
   ]
  },
  {
   "cell_type": "code",
   "execution_count": 36,
   "metadata": {},
   "outputs": [
    {
     "data": {
      "text/plain": [
       "164123.79735832184"
      ]
     },
     "execution_count": 36,
     "metadata": {},
     "output_type": "execute_result"
    }
   ],
   "source": [
    "st.stdev(sensor_dataframe['aa_000'])"
   ]
  },
  {
   "cell_type": "code",
   "execution_count": 52,
   "metadata": {},
   "outputs": [],
   "source": [
    "report={}\n",
    "for col in sensor_dataframe.columns:\n",
    "    if st.stdev(sensor_dataframe[col]) == 0:\n",
    "        report.update({col:{\n",
    "            \"standard_deviation\":st.stdev(sensor_dataframe[col]),\n",
    "    }})"
   ]
  },
  {
   "cell_type": "code",
   "execution_count": 53,
   "metadata": {},
   "outputs": [
    {
     "data": {
      "text/plain": [
       "{}"
      ]
     },
     "execution_count": 53,
     "metadata": {},
     "output_type": "execute_result"
    }
   ],
   "source": [
    "report                                      "
   ]
  },
  {
   "cell_type": "code",
   "execution_count": 40,
   "metadata": {},
   "outputs": [
    {
     "data": {
      "text/plain": [
       "'e:\\\\Industry Project\\\\Projects\\\\project files\\\\sensor_fault_detection\\\\sfd\\\\sensor-fault-detection'"
      ]
     },
     "execution_count": 40,
     "metadata": {},
     "output_type": "execute_result"
    }
   ],
   "source": [
    "os.getcwd()                                                     "
   ]
  },
  {
   "cell_type": "code",
   "execution_count": 50,
   "metadata": {},
   "outputs": [
    {
     "ename": "NameError",
     "evalue": "name 'write_yaml_file' is not defined",
     "output_type": "error",
     "traceback": [
      "\u001b[1;31m---------------------------------------------------------------------------\u001b[0m",
      "\u001b[1;31mNameError\u001b[0m                                 Traceback (most recent call last)",
      "\u001b[1;32me:\\Industry Project\\Projects\\project files\\sensor_fault_detection\\sfd\\sensor-fault-detection\\demo.ipynb Cell 10\u001b[0m in \u001b[0;36m<cell line: 1>\u001b[1;34m()\u001b[0m\n\u001b[1;32m----> <a href='vscode-notebook-cell:/e%3A/Industry%20Project/Projects/project%20files/sensor_fault_detection/sfd/sensor-fault-detection/demo.ipynb#X12sZmlsZQ%3D%3D?line=0'>1</a>\u001b[0m write_yaml_file(filepath\u001b[39m=\u001b[39mos\u001b[39m.\u001b[39mpath\u001b[39m.\u001b[39mjoin(os\u001b[39m.\u001b[39mgetcwd(), \u001b[39m\"\u001b[39m\u001b[39mstd_file\u001b[39m\u001b[39m\"\u001b[39m), content\u001b[39m=\u001b[39mreport)\n",
      "\u001b[1;31mNameError\u001b[0m: name 'write_yaml_file' is not defined"
     ]
    }
   ],
   "source": [
    "write_yaml_file(filepath=os.path.join(os.getcwd(), \"std_file\"), content=report)"
   ]
  },
  {
   "cell_type": "code",
   "execution_count": 27,
   "metadata": {},
   "outputs": [],
   "source": [
    "class check:\n",
    "    def __init__(self):\n",
    "        pass\n",
    "\n",
    "    def hello(self, x):\n",
    "        s= x == 2\n",
    "        return s\n",
    "\n",
    "    def hi(self):\n",
    "        s=hello(x=2)\n",
    "        return int(s)\n",
    "  \n"
   ]
  },
  {
   "cell_type": "code",
   "execution_count": 28,
   "metadata": {},
   "outputs": [],
   "source": [
    "obj = check()\n"
   ]
  },
  {
   "cell_type": "code",
   "execution_count": 29,
   "metadata": {},
   "outputs": [
    {
     "data": {
      "text/plain": [
       "<bound method check.hello of <__main__.check object at 0x000001A169006F10>>"
      ]
     },
     "execution_count": 29,
     "metadata": {},
     "output_type": "execute_result"
    }
   ],
   "source": [
    "obj.hello"
   ]
  },
  {
   "cell_type": "code",
   "execution_count": 30,
   "metadata": {},
   "outputs": [
    {
     "data": {
      "text/plain": [
       "<bound method check.hi of <__main__.check object at 0x000001A169006F10>>"
      ]
     },
     "execution_count": 30,
     "metadata": {},
     "output_type": "execute_result"
    }
   ],
   "source": [
    "obj.hi"
   ]
  },
  {
   "cell_type": "code",
   "execution_count": null,
   "metadata": {},
   "outputs": [],
   "source": []
  },
  {
   "cell_type": "code",
   "execution_count": 51,
   "metadata": {},
   "outputs": [],
   "source": [
    "\n",
    "\n",
    "class Point(object):\n",
    "    def __init__(self,x = 0,y = 0):\n",
    "        self.x = x\n",
    "        self.y = y\n",
    "\n",
    "    def height(self, z):\n",
    "        s= 2+z\n",
    "        return z\n",
    "\n",
    "\n",
    "    def distance(self):\n",
    "        \"\"\"Find distance from origin\"\"\"\n",
    "        return (self.x**2 + self.y**2 + height(2) ** 0.5)"
   ]
  },
  {
   "cell_type": "code",
   "execution_count": 52,
   "metadata": {},
   "outputs": [
    {
     "ename": "NameError",
     "evalue": "name 'height' is not defined",
     "output_type": "error",
     "traceback": [
      "\u001b[1;31m---------------------------------------------------------------------------\u001b[0m",
      "\u001b[1;31mNameError\u001b[0m                                 Traceback (most recent call last)",
      "\u001b[1;32me:\\Industry Project\\Projects\\project files\\sensor_fault_detection\\sfd\\sensor-fault-detection\\demo.ipynb Cell 18\u001b[0m in \u001b[0;36m<cell line: 2>\u001b[1;34m()\u001b[0m\n\u001b[0;32m      <a href='vscode-notebook-cell:/e%3A/Industry%20Project/Projects/project%20files/sensor_fault_detection/sfd/sensor-fault-detection/demo.ipynb#X22sZmlsZQ%3D%3D?line=0'>1</a>\u001b[0m p1\u001b[39m=\u001b[39m Point(\u001b[39m6\u001b[39m,\u001b[39m8\u001b[39m)\n\u001b[1;32m----> <a href='vscode-notebook-cell:/e%3A/Industry%20Project/Projects/project%20files/sensor_fault_detection/sfd/sensor-fault-detection/demo.ipynb#X22sZmlsZQ%3D%3D?line=1'>2</a>\u001b[0m p1\u001b[39m.\u001b[39;49mdistance()\n",
      "\u001b[1;32me:\\Industry Project\\Projects\\project files\\sensor_fault_detection\\sfd\\sensor-fault-detection\\demo.ipynb Cell 18\u001b[0m in \u001b[0;36mPoint.distance\u001b[1;34m(self)\u001b[0m\n\u001b[0;32m     <a href='vscode-notebook-cell:/e%3A/Industry%20Project/Projects/project%20files/sensor_fault_detection/sfd/sensor-fault-detection/demo.ipynb#X22sZmlsZQ%3D%3D?line=10'>11</a>\u001b[0m \u001b[39mdef\u001b[39;00m \u001b[39mdistance\u001b[39m(\u001b[39mself\u001b[39m):\n\u001b[0;32m     <a href='vscode-notebook-cell:/e%3A/Industry%20Project/Projects/project%20files/sensor_fault_detection/sfd/sensor-fault-detection/demo.ipynb#X22sZmlsZQ%3D%3D?line=11'>12</a>\u001b[0m     \u001b[39m\"\"\"Find distance from origin\"\"\"\u001b[39;00m\n\u001b[1;32m---> <a href='vscode-notebook-cell:/e%3A/Industry%20Project/Projects/project%20files/sensor_fault_detection/sfd/sensor-fault-detection/demo.ipynb#X22sZmlsZQ%3D%3D?line=12'>13</a>\u001b[0m     \u001b[39mreturn\u001b[39;00m (\u001b[39mself\u001b[39m\u001b[39m.\u001b[39mx\u001b[39m*\u001b[39m\u001b[39m*\u001b[39m\u001b[39m2\u001b[39m \u001b[39m+\u001b[39m \u001b[39mself\u001b[39m\u001b[39m.\u001b[39my\u001b[39m*\u001b[39m\u001b[39m*\u001b[39m\u001b[39m2\u001b[39m \u001b[39m+\u001b[39m height(\u001b[39m2\u001b[39m) \u001b[39m*\u001b[39m\u001b[39m*\u001b[39m \u001b[39m0.5\u001b[39m)\n",
      "\u001b[1;31mNameError\u001b[0m: name 'height' is not defined"
     ]
    }
   ],
   "source": [
    "p1= Point(6,8)\n",
    "p1.distance()"
   ]
  },
  {
   "cell_type": "code",
   "execution_count": 42,
   "metadata": {},
   "outputs": [],
   "source": [
    "class Point(object):\n",
    "    def __init__(self,x = 0,y = 0):\n",
    "        self.x = x\n",
    "        self.y = y\n",
    "\n",
    "    def distance(self):\n",
    "        \"\"\"Find distance from origin\"\"\"\n",
    "        return (x**2 + y**2) ** 0.5"
   ]
  },
  {
   "cell_type": "code",
   "execution_count": 43,
   "metadata": {},
   "outputs": [
    {
     "ename": "NameError",
     "evalue": "name 'x' is not defined",
     "output_type": "error",
     "traceback": [
      "\u001b[1;31m---------------------------------------------------------------------------\u001b[0m",
      "\u001b[1;31mNameError\u001b[0m                                 Traceback (most recent call last)",
      "\u001b[1;32me:\\Industry Project\\Projects\\project files\\sensor_fault_detection\\sfd\\sensor-fault-detection\\demo.ipynb Cell 19\u001b[0m in \u001b[0;36m<cell line: 2>\u001b[1;34m()\u001b[0m\n\u001b[0;32m      <a href='vscode-notebook-cell:/e%3A/Industry%20Project/Projects/project%20files/sensor_fault_detection/sfd/sensor-fault-detection/demo.ipynb#X24sZmlsZQ%3D%3D?line=0'>1</a>\u001b[0m p1\u001b[39m=\u001b[39m Point(\u001b[39m6\u001b[39m,\u001b[39m8\u001b[39m)\n\u001b[1;32m----> <a href='vscode-notebook-cell:/e%3A/Industry%20Project/Projects/project%20files/sensor_fault_detection/sfd/sensor-fault-detection/demo.ipynb#X24sZmlsZQ%3D%3D?line=1'>2</a>\u001b[0m p1\u001b[39m.\u001b[39;49mdistance()\n",
      "\u001b[1;32me:\\Industry Project\\Projects\\project files\\sensor_fault_detection\\sfd\\sensor-fault-detection\\demo.ipynb Cell 19\u001b[0m in \u001b[0;36mPoint.distance\u001b[1;34m(self)\u001b[0m\n\u001b[0;32m      <a href='vscode-notebook-cell:/e%3A/Industry%20Project/Projects/project%20files/sensor_fault_detection/sfd/sensor-fault-detection/demo.ipynb#X24sZmlsZQ%3D%3D?line=5'>6</a>\u001b[0m \u001b[39mdef\u001b[39;00m \u001b[39mdistance\u001b[39m(\u001b[39mself\u001b[39m):\n\u001b[0;32m      <a href='vscode-notebook-cell:/e%3A/Industry%20Project/Projects/project%20files/sensor_fault_detection/sfd/sensor-fault-detection/demo.ipynb#X24sZmlsZQ%3D%3D?line=6'>7</a>\u001b[0m     \u001b[39m\"\"\"Find distance from origin\"\"\"\u001b[39;00m\n\u001b[1;32m----> <a href='vscode-notebook-cell:/e%3A/Industry%20Project/Projects/project%20files/sensor_fault_detection/sfd/sensor-fault-detection/demo.ipynb#X24sZmlsZQ%3D%3D?line=7'>8</a>\u001b[0m     \u001b[39mreturn\u001b[39;00m (x\u001b[39m*\u001b[39m\u001b[39m*\u001b[39m\u001b[39m2\u001b[39m \u001b[39m+\u001b[39m y\u001b[39m*\u001b[39m\u001b[39m*\u001b[39m\u001b[39m2\u001b[39m) \u001b[39m*\u001b[39m\u001b[39m*\u001b[39m \u001b[39m0.5\u001b[39m\n",
      "\u001b[1;31mNameError\u001b[0m: name 'x' is not defined"
     ]
    }
   ],
   "source": [
    "p1= Point(6,8)\n",
    "p1.distance()"
   ]
  },
  {
   "cell_type": "code",
   "execution_count": 1,
   "metadata": {},
   "outputs": [],
   "source": [
    "class TargetValueMapping:\n",
    "    def __init__(self):\n",
    "        self.neg: int = 0\n",
    "\n",
    "        self.pos: int = 1\n",
    "\n",
    "    def to_dict(self):\n",
    "        return self.__dict__\n",
    "\n",
    "    def reverse_mapping(self):\n",
    "        mapping_response = self.to_dict()\n",
    "\n",
    "        return dict(zip(mapping_response.values(), mapping_response.keys()))"
   ]
  },
  {
   "cell_type": "code",
   "execution_count": 2,
   "metadata": {},
   "outputs": [],
   "source": [
    "t1 = TargetValueMapping()"
   ]
  },
  {
   "cell_type": "code",
   "execution_count": 3,
   "metadata": {},
   "outputs": [
    {
     "data": {
      "text/plain": [
       "{'neg': 0, 'pos': 1}"
      ]
     },
     "execution_count": 3,
     "metadata": {},
     "output_type": "execute_result"
    }
   ],
   "source": [
    "t1.to_dict()"
   ]
  },
  {
   "cell_type": "code",
   "execution_count": 4,
   "metadata": {},
   "outputs": [
    {
     "data": {
      "text/plain": [
       "{0: 'neg', 1: 'pos'}"
      ]
     },
     "execution_count": 4,
     "metadata": {},
     "output_type": "execute_result"
    }
   ],
   "source": [
    "t1.reverse_mapping()"
   ]
  },
  {
   "cell_type": "code",
   "execution_count": 6,
   "metadata": {},
   "outputs": [
    {
     "data": {
      "text/plain": [
       "dict_keys(['neg', 'pos'])"
      ]
     },
     "execution_count": 6,
     "metadata": {},
     "output_type": "execute_result"
    }
   ],
   "source": [
    "t1.to_dict().keys()"
   ]
  },
  {
   "cell_type": "code",
   "execution_count": null,
   "metadata": {},
   "outputs": [],
   "source": []
  }
 ],
 "metadata": {
  "kernelspec": {
   "display_name": "Python 3.9.7 ('base')",
   "language": "python",
   "name": "python3"
  },
  "language_info": {
   "codemirror_mode": {
    "name": "ipython",
    "version": 3
   },
   "file_extension": ".py",
   "mimetype": "text/x-python",
   "name": "python",
   "nbconvert_exporter": "python",
   "pygments_lexer": "ipython3",
   "version": "3.9.7"
  },
  "orig_nbformat": 4,
  "vscode": {
   "interpreter": {
    "hash": "a2ab3825ac7005fb7b26f112e9c99ae62f464c629e30b0d534c3b931b6cbc3ff"
   }
  }
 },
 "nbformat": 4,
 "nbformat_minor": 2
}
